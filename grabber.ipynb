{
 "cells": [
  {
   "cell_type": "code",
   "execution_count": 27,
   "metadata": {
    "collapsed": true
   },
   "outputs": [],
   "source": [
    "# coding:utf-8\n",
    "import requests\n",
    "# import urllib2\n",
    "# import pandas as pd\n",
    "from bs4 import BeautifulSoup\n",
    "import json\n",
    "url = 'https://matterhorn.dce.harvard.edu/search/series.json?action=get&admin=false&episodes=true&id=20160114328&limit=400&offset=0&reFreshData=1496297'\n",
    "\n",
    "content = requests.get(url)"
   ]
  },
  {
   "cell_type": "code",
   "execution_count": 28,
   "metadata": {},
   "outputs": [
    {
     "name": "stdout",
     "output_type": "stream",
     "text": [
      "utor\":\"Verena S. Kaynig, Hanspeter Pfister, Joseph K. Blitzstein\",\"dcDescription\":\"http:\\/\\/isites.harvard.edu\\/course\\/ext-14328\\/2015\\/fall\",\"dcCreated\":\"2015-09-02T00:00:00-04:00\",\"dcLanguage\":\"eng\",\"mediaType\":\"Series\",\"keywords\":\"\",\"modified\":\"2016-03-31T21:05:07.286-04:00\",\"score\":5.925639}]}\n"
     ]
    }
   ],
   "source": [
    "print content.text[-300:-1]"
   ]
  },
  {
   "cell_type": "code",
   "execution_count": 121,
   "metadata": {},
   "outputs": [
    {
     "name": "stdout",
     "output_type": "stream",
     "text": [
      "76\n"
     ]
    }
   ],
   "source": [
    "contentjson = content.json()\n",
    "result = contentjson['search-results']['result']\n",
    "print len(result)\n",
    "result0 = result[6]"
   ]
  },
  {
   "cell_type": "code",
   "execution_count": 155,
   "metadata": {
    "collapsed": true
   },
   "outputs": [],
   "source": [
    "import re\n",
    "preter = u'presenter_delivery.mp4'\n",
    "pretion = u'presentation_delivery.mp4'"
   ]
  },
  {
   "cell_type": "code",
   "execution_count": 185,
   "metadata": {
    "scrolled": true
   },
   "outputs": [],
   "source": [
    "def write_xml(x = rexml):\n",
    "    f = file(r'media.xml', 'w')\n",
    "    f.write(x)\n",
    "    f.close()\n",
    "\n",
    "def data_to_doc(data):\n",
    "    doc = file(r\"data.txt\", 'a')\n",
    "    for i in range(0, len(data)):\n",
    "        doc.write(str(data[i]))\n",
    "        doc.write('\\n')\n",
    "    doc.write('\\n')\n",
    "    doc.close()\n",
    "    "
   ]
  },
  {
   "cell_type": "code",
   "execution_count": 186,
   "metadata": {
    "collapsed": true
   },
   "outputs": [],
   "source": [
    "def get_data():\n",
    "    urllist = []\n",
    "    mp4list = []\n",
    "    mask = []\n",
    "    mp4Preter = []\n",
    "    mp4Pretion = []\n",
    "    headerlist = []\n",
    "    dom = minidom.parse(\"media.xml\")\n",
    "    collection = dom.documentElement\n",
    "    titleEle = collection.getElementsByTagName(\"title\")[0]\n",
    "    title = titleEle.childNodes[0].data \n",
    "\n",
    "    urlEle = collection.getElementsByTagName(\"url\")\n",
    "    for url in urlEle:\n",
    "        urldata = url.childNodes[0].data\n",
    "        urllist.append(urldata)\n",
    "#     print len(urllist)\n",
    "  \n",
    "    for i in urllist:\n",
    "        boolmp4 = re.search('.mp4', i, re.IGNORECASE)\n",
    "        if boolmp4:\n",
    "            mp4list.append(i)\n",
    "    for i in mp4list:\n",
    "        boolTer = re.search(preter, i, re.IGNORECASE)\n",
    "        boolTion = re.search(pretion, i, re.IGNORECASE)\n",
    "        if boolTer:\n",
    "            mp4Preter.append(i)\n",
    "        elif boolTion:\n",
    "            mp4Pretion.append(i)\n",
    "        else:\n",
    "            headerlist.append(i)\n",
    "            \n",
    "    if len(headerlist) != 0:\n",
    "        return title,headerlist[0]\n",
    "    elif(len(mp4Pretion) != 0):\n",
    "        return title,mp4Preter[0],mp4Pretion[0]\n",
    "    else:\n",
    "        return title, mp4Preter[0]\n"
   ]
  },
  {
   "cell_type": "code",
   "execution_count": 188,
   "metadata": {
    "collapsed": true
   },
   "outputs": [],
   "source": [
    "a = u'ocMediapackage'\n",
    "\n",
    "for result0 in result:\n",
    "    if a in result0.keys():\n",
    "        rexml = result0['ocMediapackage']\n",
    "        write_xml(rexml)\n",
    "        data = get_data()\n",
    "        data_to_doc(data)\n",
    "    else:\n",
    "        pass"
   ]
  },
  {
   "cell_type": "code",
   "execution_count": null,
   "metadata": {
    "collapsed": true
   },
   "outputs": [],
   "source": []
  }
 ],
 "metadata": {
  "kernelspec": {
   "display_name": "Python 2",
   "language": "python",
   "name": "python2"
  },
  "language_info": {
   "codemirror_mode": {
    "name": "ipython",
    "version": 2
   },
   "file_extension": ".py",
   "mimetype": "text/x-python",
   "name": "python",
   "nbconvert_exporter": "python",
   "pygments_lexer": "ipython2",
   "version": "2.7.13"
  }
 },
 "nbformat": 4,
 "nbformat_minor": 2
}
